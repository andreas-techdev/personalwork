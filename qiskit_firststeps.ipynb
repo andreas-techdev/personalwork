{
 "cells": [
  {
   "cell_type": "markdown",
   "id": "f617ae22-081c-4724-b3dd-23c31317db78",
   "metadata": {},
   "source": [
    "# First steps with quantum circuits\n",
    "This contains first steps with quantum circuits taken out of the coursera course \"Practical Quantum computing with IBM Quiskit for Beginners\" offered by Packt. The course is based on some older version of Qiskit and I decide for myself to update the content to a recent Qiskit version.\n",
    "\n",
    "## Installation"
   ]
  },
  {
   "cell_type": "code",
   "execution_count": null,
   "id": "b94f4b65-1e32-43d7-859f-4a6256bb9016",
   "metadata": {},
   "outputs": [],
   "source": [
    "from IPython.display import display, Markdown\n",
    "import ipywidgets as widgets\n",
    "import qiskit as q\n",
    "import qiskit_aer as aer\n",
    "print(f\"Quiskit Version: {q.__version__}\")\n",
    "print(f\"Quiskit Aer Version: {aer.__version__}\")"
   ]
  },
  {
   "cell_type": "markdown",
   "id": "cd8d6980-9ce4-43e3-85ee-ad6ff7f7aac2",
   "metadata": {},
   "source": [
    "Let's create a helper function which displays all the data for the course."
   ]
  },
  {
   "cell_type": "code",
   "execution_count": null,
   "id": "d4569347-eba4-4ba9-9203-c1a6f11e0bfe",
   "metadata": {},
   "outputs": [],
   "source": [
    "def ShowSimpleGate(qcircuit, title = '### Quantum Gate', showanimation=False):\n",
    "    '''\n",
    "    Calculates  a combination of simple quantum gates and returns an object to display\n",
    "    Inputs:\n",
    "        qcircuit:  a qiskit quantum circuit\n",
    "        showanimation: Boolean. Set to true if you want to see an animated arrow in the bloch sphere (only works for 1qbit systems\n",
    "    Outputs:\n",
    "        out: An ipywidget gridspeclayout object you can display\n",
    "    '''\n",
    "    ###############################################################\n",
    "    # Prepare Widget with the grid\n",
    "    ###############################################################\n",
    "    # Make a 2x2 output grid and initialize each element with widgets.Output()\n",
    "    rows=2\n",
    "    cols=2\n",
    "    out = widgets.GridspecLayout(rows, cols, layout={\n",
    "        'width': '60%',\n",
    "        'align_items': 'flex-start',\n",
    "        'justify_items': 'flex-start'\n",
    "        })\n",
    "    layout = {'width': '100%', 'align_items': 'flex-start', 'justify_items': 'flex-start'}\n",
    "    [[out.__setitem__((i,j), widgets.Output(layout = layout)) for j in range(cols)] for i in range(rows)]\n",
    "\n",
    "    ###############################################################\n",
    "    # Get the text out of the circuit for the description\n",
    "    ###############################################################\n",
    "      \n",
    "    annotation_parts = [title + '\\n']\n",
    "    for gate in qc.data:\n",
    "        annotation_parts.append('- ' + str(gate.operation.name) + '(')\n",
    "        for i, bit in enumerate(gate.qubits):\n",
    "            annotation_parts.append(str(qc.find_bit(bit).index))\n",
    "            if i==len(gate.qubits)-1:\n",
    "                annotation_parts.append(')\\n')\n",
    "            else:\n",
    "                annotation_parts.append(', ')\n",
    "    annotation = \"\".join(annotation_parts)\n",
    "\n",
    "    # top-left box with circuit description and scheme\n",
    "    out[0,0].append_display_data(Markdown(annotation))\n",
    "    out[0,0].append_display_data(qc.draw('mpl'))\n",
    "\n",
    "\n",
    "    ##################################################################\n",
    "    # Simulation\n",
    "    #################################################################\n",
    "    \n",
    "    # Creating the simulator for the statevector (this is old style  to use the method shown in the course\n",
    "    # Statevector and unitary matrix actually do not need a simulation run - see example below\n",
    "    backend = aer.AerSimulator(method='automatic')\n",
    "    #transpiling is especially important for newer versions of aer (rearranging the circuit to the given platform, here it's only simulation)\n",
    "    qc_transpiled = q.transpile(qc, backend)\n",
    "    # add a measurement because we need the state vector later on\n",
    "    qc_transpiled.save_statevector()\n",
    "\n",
    "    #Run the circuit\n",
    "    job = backend.run(qc_transpiled)\n",
    "    result = job.result()\n",
    "    statevector = result.get_statevector()\n",
    "\n",
    "    # put bloch sphere in top-right box\n",
    "    \n",
    "    # Animation is time-consuming (thus set to False by default) \n",
    "    # there is a deprecation warning, but it still seems to work fine for circuits with 1 qubit\n",
    "    if showanimation:\n",
    "        out[0,1].append_display_data(q.visualization.visualize_transition(qc))\n",
    "    else: \n",
    "        # Draw bloch sphere\n",
    "        out[0,1].append_display_data(q.visualization.plot_bloch_multivector(statevector))\n",
    "    \n",
    "    # Histogram in bottom-right box\n",
    "    counts = result.get_counts()\n",
    "    out[1,1].append_display_data(q.visualization.plot_histogram(counts))\n",
    "    \n",
    "    # put transition matrix and state in bottom-left box\n",
    "    \n",
    "    # To get the unitary matrix, you do not need a simlation. quantum_info provides all information\n",
    "    out[1,0].append_display_data(q.visualization.array_to_latex(q.quantum_info.Operator(qc), prefix='\\\\text{Unitary matrix} = '))\n",
    "    out[1,0].append_display_data(q.visualization.array_to_latex(q.quantum_info.Statevector(qc), prefix='\\\\text{State vector} = '))\n",
    "\n",
    "    return out\n",
    "                                 \n",
    "                     \n",
    "    \n",
    "\n",
    "qc = q.QuantumCircuit(1)\n",
    "qc.x(0)\n",
    "out = ShowSimpleGate(qc, title = '### A simple circuit - Pauli x-gate')\n",
    "display(out)"
   ]
  },
  {
   "cell_type": "code",
   "execution_count": null,
   "id": "85692e31-441d-4028-a731-33a4d9038004",
   "metadata": {},
   "outputs": [],
   "source": [
    "# Create a quantum circuit with one single qubit\n",
    "# (the (1) refers to 1 qubit, default spin of the qubit is |0> (up spin)\n",
    "\n",
    "qc = q.QuantumCircuit(1)\n",
    "\n",
    "# apply the Pauli x-gate to the first bit (0)\n",
    "qc.x(0)\n",
    "\n",
    "# draw the circuit, mpl uses matplotlib to make it a little bit fancier\n",
    "qc.draw('mpl')"
   ]
  },
  {
   "cell_type": "code",
   "execution_count": null,
   "id": "64b089df-14ac-41f7-b901-e69a3aa8ba06",
   "metadata": {},
   "outputs": [],
   "source": [
    "# Creating the simulator \n",
    "backend = aer.AerSimulator(method='statevector')\n",
    "#transpiling is especially important for newer versions of aer (rearranging the circuit to the given platform, here it's only simulation)\n",
    "qc_transpiled = q.transpile(qc, backend)\n",
    "# add a measurement because we need the state vector later on\n",
    "qc_transpiled.save_statevector()\n",
    "\n",
    "#Run the circuit\n",
    "job = backend.run(qc_transpiled)\n",
    "result = job.result()\n",
    "statevector = result.get_statevector()\n",
    "\n",
    "# visualization in the bloch sphere\n",
    "q.visualization.plot_bloch_multivector(statevector)\n"
   ]
  },
  {
   "cell_type": "markdown",
   "id": "5baa1b68-63c8-48b4-a58a-62a7c2c093c1",
   "metadata": {},
   "source": [
    "#### Other visualization options\n"
   ]
  },
  {
   "cell_type": "code",
   "execution_count": null,
   "id": "b7fe02ec-42bb-4489-beb9-dbebf7e52d75",
   "metadata": {},
   "outputs": [],
   "source": [
    "# Although deprecated, this is nice to look at\n",
    "q.visualization.visualize_transition(qc)"
   ]
  },
  {
   "cell_type": "code",
   "execution_count": null,
   "id": "c7d2795d-5b88-4a3e-8358-bdadfe6c93e3",
   "metadata": {},
   "outputs": [],
   "source": [
    "# Histogram\n",
    "counts = result.get_counts()\n",
    "q.visualization.plot_histogram(counts)"
   ]
  },
  {
   "cell_type": "markdown",
   "id": "e6549802-16be-4960-85ba-949c523646d3",
   "metadata": {},
   "source": [
    "#### Initializing circuits"
   ]
  },
  {
   "cell_type": "code",
   "execution_count": null,
   "id": "1c2e7b11-add7-4037-8521-327cdcc2964f",
   "metadata": {},
   "outputs": [],
   "source": [
    "# Define the initial state as spin down |1>\n",
    "initial_state = [0, 1] \n",
    "qc = q.QuantumCircuit(1)\n",
    "qc.initialize(initial_state,0)\n",
    "\n",
    "# apply Pauli x-gate and draw\n",
    "qc.x(0)\n",
    "qc.draw('mpl')\n"
   ]
  },
  {
   "cell_type": "markdown",
   "id": "3e936906-272d-4ae7-977c-453e8330cf29",
   "metadata": {},
   "source": [
    "### Pauli y-gate\n",
    "\n"
   ]
  },
  {
   "cell_type": "code",
   "execution_count": null,
   "id": "1b5a68f8-54f0-45c9-992f-5d74213c5f63",
   "metadata": {},
   "outputs": [],
   "source": [
    "qc = q.QuantumCircuit(1)\n",
    "# apply Pauli y-gate and draw\n",
    "qc.y(0)\n",
    "qc.draw('mpl')"
   ]
  },
  {
   "cell_type": "code",
   "execution_count": null,
   "id": "f3d6bacd-476d-47f8-8ee5-4dd39e7c5a25",
   "metadata": {},
   "outputs": [],
   "source": [
    "# Simulation \n",
    "qc_transpiled = q.transpile(qc, backend)\n",
    "qc_transpiled.save_statevector()\n",
    "job = backend.run(qc_transpiled)\n",
    "result = job.result()\n",
    "statevector = result.get_statevector()\n",
    "# visualization in the bloch sphere\n",
    "q.visualization.plot_bloch_multivector(statevector)"
   ]
  },
  {
   "cell_type": "markdown",
   "id": "2a4b35d0-21f0-4e0e-9798-ffa9fee6747a",
   "metadata": {},
   "source": [
    "The y-gate also moves from |0> to |1>, but it rotates around the y-axis as you can see below. To be very precise, the y-gate moves |0> to i|1>, but the i as a global phase change cannot be measured and is therefore not shown."
   ]
  },
  {
   "cell_type": "code",
   "execution_count": null,
   "id": "c819b457-3fb4-4748-b7de-cb1d8ab8714e",
   "metadata": {},
   "outputs": [],
   "source": [
    "q.visualization.visualize_transition(qc)"
   ]
  },
  {
   "cell_type": "markdown",
   "id": "3925d299-e27b-40e8-9d66-1b0f28f9d2a8",
   "metadata": {},
   "source": [
    "## Other 1-qubits shown in the lecture\n"
   ]
  },
  {
   "cell_type": "code",
   "execution_count": null,
   "id": "1e5326a8-82ff-4b47-8060-7cc3a3989ef5",
   "metadata": {},
   "outputs": [],
   "source": [
    "qc = q.QuantumCircuit(1)\n",
    "qc.h(0)\n",
    "# uncomment the next line to see the applying the gate twice returns to the origin\n",
    "# qc.h(0)\n",
    "out = ShowSimpleGate(qc, title = '### Hadamard gate \\n This is used to create a superposition')\n",
    "display(out)\n",
    "\n",
    "qc = q.QuantumCircuit(1)\n",
    "qc.y(0)\n",
    "# uncomment the next line to see the applying the gate twice returns to the origin\n",
    "# qc.h(0)\n",
    "out = ShowSimpleGate(qc, title = '### Y-gate \\n This is a phase shift gate')\n",
    "display(out)\n",
    "\n",
    "qc = q.QuantumCircuit(1)\n",
    "qc.s(0)\n",
    "# uncomment the next line to see the applying the gate twice returns to the origin\n",
    "# qc.h(0)\n",
    "out = ShowSimpleGate(qc, title = '### S gate \\n This creates a phase shift on spin down')\n",
    "display(out)\n",
    "\n"
   ]
  },
  {
   "cell_type": "code",
   "execution_count": null,
   "id": "736aa717-696d-45bc-9517-4bb04dbe99ec",
   "metadata": {},
   "outputs": [],
   "source": []
  },
  {
   "cell_type": "code",
   "execution_count": null,
   "id": "22828261-234a-4ed1-8aba-7f90f2194318",
   "metadata": {},
   "outputs": [],
   "source": []
  },
  {
   "cell_type": "code",
   "execution_count": null,
   "id": "c4072918-0778-49cf-b9fb-d5f764834d97",
   "metadata": {},
   "outputs": [],
   "source": []
  },
  {
   "cell_type": "code",
   "execution_count": null,
   "id": "79bc03fb-fc5f-417a-845c-6d4bf00739a8",
   "metadata": {},
   "outputs": [],
   "source": []
  }
 ],
 "metadata": {
  "kernelspec": {
   "display_name": "Python 3 (ipykernel)",
   "language": "python",
   "name": "python3"
  },
  "language_info": {
   "codemirror_mode": {
    "name": "ipython",
    "version": 3
   },
   "file_extension": ".py",
   "mimetype": "text/x-python",
   "name": "python",
   "nbconvert_exporter": "python",
   "pygments_lexer": "ipython3",
   "version": "3.12.3"
  }
 },
 "nbformat": 4,
 "nbformat_minor": 5
}
