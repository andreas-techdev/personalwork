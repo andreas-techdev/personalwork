{
 "cells": [
  {
   "cell_type": "markdown",
   "id": "f617ae22-081c-4724-b3dd-23c31317db78",
   "metadata": {},
   "source": [
    "# First steps with quantum circuits\n",
    "This contains first steps with quantum circuits taken out of the coursera course \"Practical Quantum computing with IBM Quiskit for Beginners\" offered by Packt. The course is based on some older version of Qiskit and I decide for myself to update the content to a recent Qiskit version.\n",
    "\n",
    "## Installation"
   ]
  },
  {
   "cell_type": "code",
   "execution_count": null,
   "id": "a573c024-4605-4596-a008-8358d41a1c58",
   "metadata": {},
   "outputs": [],
   "source": [
    "import qiskit as q\n",
    "import qiskit_aer as aer\n",
    "print(f\"Quiskit Version: {q.__version__}\")\n",
    "print(f\"Quiskit Aer Version: {aer.__version__}\")"
   ]
  },
  {
   "cell_type": "markdown",
   "id": "3ae93bfe-1cec-4aa8-b9ff-aba4a580d99d",
   "metadata": {},
   "source": [
    "## First tests with simple gates\n",
    "\n",
    "### Pauli x-gate\n",
    "\n",
    "- instantiates a first quantum circuit\n",
    "- calls the x()-methodd to add a Pauli x-gate to this circuit\n",
    "- draw the resulting circuit\n",
    "- user aer to simulate and finally draw a bloch sphere\n",
    "  "
   ]
  },
  {
   "cell_type": "code",
   "execution_count": null,
   "id": "85692e31-441d-4028-a731-33a4d9038004",
   "metadata": {},
   "outputs": [],
   "source": [
    "# Create a quantum circuit with one single qubit\n",
    "# (the (1) refers to 1 qubit, default spin of the qubit is |0> (up spin)\n",
    "\n",
    "qc = q.QuantumCircuit(1)\n",
    "\n",
    "# apply the Pauli x-gate to the first bit (0)\n",
    "qc.x(0)\n",
    "\n",
    "# draw the circuit, mpl uses matplotlib to make it a little bit fancier\n",
    "qc.draw('mpl')"
   ]
  },
  {
   "cell_type": "code",
   "execution_count": null,
   "id": "64b089df-14ac-41f7-b901-e69a3aa8ba06",
   "metadata": {},
   "outputs": [],
   "source": [
    "# Creating the simulator \n",
    "backend = aer.AerSimulator(method='statevector')\n",
    "#transpiling is especially important for newer versions of aer (rearranging the circuit to the given platform, here it's only simulation)\n",
    "qc_transpiled = q.transpile(qc, backend)\n",
    "# add a measurement because we need the state vector later on\n",
    "qc_transpiled.save_statevector()\n",
    "\n",
    "#Run the circuit\n",
    "job = backend.run(qc_transpiled)\n",
    "result = job.result()\n",
    "statevector = result.get_statevector()\n",
    "\n",
    "# visualization in the bloch sphere\n",
    "q.visualization.plot_bloch_multivector(statevector)\n"
   ]
  },
  {
   "cell_type": "markdown",
   "id": "5baa1b68-63c8-48b4-a58a-62a7c2c093c1",
   "metadata": {},
   "source": [
    "#### Other visualization options\n"
   ]
  },
  {
   "cell_type": "code",
   "execution_count": null,
   "id": "b7fe02ec-42bb-4489-beb9-dbebf7e52d75",
   "metadata": {},
   "outputs": [],
   "source": [
    "# Although deprecated, this is nice to look at\n",
    "q.visualization.visualize_transition(qc)"
   ]
  },
  {
   "cell_type": "code",
   "execution_count": null,
   "id": "c7d2795d-5b88-4a3e-8358-bdadfe6c93e3",
   "metadata": {},
   "outputs": [],
   "source": [
    "# Histogram\n",
    "counts = result.get_counts()\n",
    "q.visualization.plot_histogram(counts)"
   ]
  },
  {
   "cell_type": "markdown",
   "id": "e6549802-16be-4960-85ba-949c523646d3",
   "metadata": {},
   "source": [
    "#### Initializing circuits"
   ]
  },
  {
   "cell_type": "code",
   "execution_count": null,
   "id": "1c2e7b11-add7-4037-8521-327cdcc2964f",
   "metadata": {},
   "outputs": [],
   "source": [
    "# Define the initial state as spin down |1>\n",
    "initial_state = [0, 1] \n",
    "qc = q.QuantumCircuit(1)\n",
    "qc.initialize(initial_state,0)\n",
    "\n",
    "# apply Pauli x-gate and draw\n",
    "qc.x(0)\n",
    "qc.draw('mpl')\n"
   ]
  },
  {
   "cell_type": "markdown",
   "id": "3e936906-272d-4ae7-977c-453e8330cf29",
   "metadata": {},
   "source": [
    "### Pauli y-gate\n",
    "\n"
   ]
  },
  {
   "cell_type": "code",
   "execution_count": null,
   "id": "1b5a68f8-54f0-45c9-992f-5d74213c5f63",
   "metadata": {},
   "outputs": [],
   "source": [
    "qc = q.QuantumCircuit(1)\n",
    "# apply Pauli y-gate and draw\n",
    "qc.y(0)\n",
    "qc.draw('mpl')"
   ]
  },
  {
   "cell_type": "code",
   "execution_count": null,
   "id": "f3d6bacd-476d-47f8-8ee5-4dd39e7c5a25",
   "metadata": {},
   "outputs": [],
   "source": [
    "# Simulation \n",
    "qc_transpiled = q.transpile(qc, backend)\n",
    "qc_transpiled.save_statevector()\n",
    "job = backend.run(qc_transpiled)\n",
    "result = job.result()\n",
    "statevector = result.get_statevector()\n",
    "# visualization in the bloch sphere\n",
    "q.visualization.plot_bloch_multivector(statevector)"
   ]
  },
  {
   "cell_type": "markdown",
   "id": "2a4b35d0-21f0-4e0e-9798-ffa9fee6747a",
   "metadata": {},
   "source": [
    "The y-gate also moves from |0> to |1>, but it rotates around the y-axis as you can see below. To be very precise, the y-gate moves |0> to i|1>, but the i as a global phase change cannot be measured and is therefore not shown."
   ]
  },
  {
   "cell_type": "code",
   "execution_count": null,
   "id": "c819b457-3fb4-4748-b7de-cb1d8ab8714e",
   "metadata": {},
   "outputs": [],
   "source": [
    "q.visualization.visualize_transition(qc)"
   ]
  },
  {
   "cell_type": "markdown",
   "id": "3925d299-e27b-40e8-9d66-1b0f28f9d2a8",
   "metadata": {},
   "source": [
    "## Hadamard gate\n",
    "The hadamard gate is the first gate here that introduces a superposition state. In this example, we apply it to |1> (and for that reason, we have the x-gate in front of it)."
   ]
  },
  {
   "cell_type": "code",
   "execution_count": null,
   "id": "1e5326a8-82ff-4b47-8060-7cc3a3989ef5",
   "metadata": {},
   "outputs": [],
   "source": [
    "qc = q.QuantumCircuit(1)\n",
    "# create |1> and apply hadamard gate\n",
    "qc.x(0)\n",
    "qc.h(0)\n",
    "# uncomment the next line to see the applying the gate twice returns to the origin\n",
    "# qc.h(0)\n",
    "qc.draw('mpl')"
   ]
  },
  {
   "cell_type": "code",
   "execution_count": null,
   "id": "75faaca2-ee04-4f87-98f2-d66583802b27",
   "metadata": {},
   "outputs": [],
   "source": [
    "# Simulation \n",
    "qc_transpiled = q.transpile(qc, backend)\n",
    "qc_transpiled.save_statevector()\n",
    "job = backend.run(qc_transpiled)\n",
    "result = job.result()\n",
    "statevector = result.get_statevector()\n",
    "# visualization in the bloch sphere\n",
    "q.visualization.plot_bloch_multivector(statevector)"
   ]
  },
  {
   "cell_type": "code",
   "execution_count": null,
   "id": "198749a5-9f22-46bc-8bc6-05d407f64047",
   "metadata": {},
   "outputs": [],
   "source": [
    "# the green pointer only shows the x-gate, the grey pointer shows the hadamard gate effect\n",
    "q.visualization.visualize_transition(qc)"
   ]
  },
  {
   "cell_type": "markdown",
   "id": "0aee3d2e-76dc-48a7-acba-3e9244526114",
   "metadata": {},
   "source": [
    "For the superposition created, spin up and spin down have the same probability in the simulation."
   ]
  },
  {
   "cell_type": "code",
   "execution_count": null,
   "id": "ada0afae-06cf-4f7b-b8d4-f478de5e32b4",
   "metadata": {},
   "outputs": [],
   "source": [
    "# Histogram\n",
    "counts = result.get_counts()\n",
    "q.visualization.plot_histogram(counts)"
   ]
  },
  {
   "cell_type": "code",
   "execution_count": null,
   "id": "736aa717-696d-45bc-9517-4bb04dbe99ec",
   "metadata": {},
   "outputs": [],
   "source": []
  }
 ],
 "metadata": {
  "kernelspec": {
   "display_name": "Python 3 (ipykernel)",
   "language": "python",
   "name": "python3"
  },
  "language_info": {
   "codemirror_mode": {
    "name": "ipython",
    "version": 3
   },
   "file_extension": ".py",
   "mimetype": "text/x-python",
   "name": "python",
   "nbconvert_exporter": "python",
   "pygments_lexer": "ipython3",
   "version": "3.12.3"
  }
 },
 "nbformat": 4,
 "nbformat_minor": 5
}
