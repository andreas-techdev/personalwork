{
 "cells": [
  {
   "cell_type": "markdown",
   "id": "a8bae9e2-bd4d-4f64-8bd1-8da334887659",
   "metadata": {},
   "source": [
    "# Quantum Hello World\n",
    "\n",
    "This is just a copy of the [quantum hello world example of IBM](https://eu-de.quantum.cloud.ibm.com/docs/de/tutorials/hello-world), decorated by some more explicit explanations. \n"
   ]
  },
  {
   "cell_type": "code",
   "execution_count": null,
   "id": "1f644b58-63b3-43ff-bc37-db1bfb5ada97",
   "metadata": {},
   "outputs": [],
   "source": [
    "from qiskit import QuantumCircuit, transpile\n",
    "from qiskit.quantum_info import SparsePauliOp, Operator\n",
    "from qiskit.transpiler import generate_preset_pass_manager\n",
    "from qiskit_ibm_runtime import EstimatorV2 as Estimator\n",
    "from qiskit_ibm_runtime import QiskitRuntimeService, EstimatorOptions\n",
    "import qiskit_aer as aer\n",
    "\n",
    "from matplotlib import pyplot as plt"
   ]
  },
  {
   "cell_type": "code",
   "execution_count": null,
   "id": "9cefdfd6-7c8e-48b7-9425-f533cce590af",
   "metadata": {},
   "outputs": [],
   "source": [
    "# Uncomment the following cell and fill in your token and instance to store your token locally\n",
    "'''\n",
    "token = ''\n",
    "instance = ''\n",
    "service = QiskitRuntimeService.save_account(\n",
    "    token = token\n",
    "    # Do not share your key in public code.\n",
    "    channel='ibm_cloud', \n",
    "    # ibm_cloud is the channel with free access\n",
    "    instance = instance\n",
    "    set_as_default=True, # Optionally set these as your default credentials.\n",
    "  )\n",
    "'''"
   ]
  },
  {
   "cell_type": "code",
   "execution_count": null,
   "id": "783a23cf-83f2-4282-bc80-50df14747843",
   "metadata": {},
   "outputs": [],
   "source": [
    "# Create a new circuit with two qubits\n",
    "qc = QuantumCircuit(2)\n",
    " \n",
    "# Add a Hadamard gate to qubit 0\n",
    "qc.h(0)\n",
    " \n",
    "# Perform a controlled-X gate on qubit 1, controlled by qubit 0\n",
    "qc.cx(0, 1)\n",
    " \n",
    "# Return a drawing of the circuit using MatPlotLib (\"mpl\").\n",
    "# These guides are written by using Jupyter notebooks, which\n",
    "# display the output of the last line of each cell.\n",
    "# If you're running this in a script, use `print(qc.draw())` to\n",
    "# print a text drawing.\n",
    "qc.draw(\"mpl\")"
   ]
  },
  {
   "cell_type": "code",
   "execution_count": null,
   "id": "fca9c55f-262e-4211-a538-9a1327a61fa1",
   "metadata": {},
   "outputs": [],
   "source": [
    "# Set up six different observables.\n",
    " \n",
    "observables_labels = [\"IZ\", \"IX\", \"ZI\", \"XI\", \"ZZ\", \"XX\"]\n",
    "observables = [SparsePauliOp(label) for label in observables_labels]\n",
    "\n",
    "service = QiskitRuntimeService()\n",
    " \n",
    "backend = service.least_busy(simulator=False, operational=True)\n",
    " \n",
    "# Convert to an ISA circuit and layout-mapped observables.\n",
    "pm = generate_preset_pass_manager(backend=backend, optimization_level=1)\n",
    "isa_circuit = pm.run(qc)\n",
    " \n",
    "isa_circuit.draw(\"mpl\", idle_wires=False)"
   ]
  },
  {
   "cell_type": "code",
   "execution_count": null,
   "id": "30f87084-cb06-4da4-9d25-f08318a4e37e",
   "metadata": {},
   "outputs": [],
   "source": [
    "# Construct the Estimator instance.\n",
    " \n",
    "estimator = Estimator(mode=backend)\n",
    "estimator.options.resilience_level = 1\n",
    "estimator.options.default_shots = 5000\n",
    " \n",
    "mapped_observables = [\n",
    "    observable.apply_layout(isa_circuit.layout) for observable in observables\n",
    "]\n",
    " \n",
    "# One pub, with one circuit to run against five different observables.\n",
    "job = estimator.run([(isa_circuit, mapped_observables)])\n",
    " \n",
    "# Use the job ID to retrieve your job data later\n",
    "print(f\">>> Job ID: {job.job_id()}\")\n",
    "\n"
   ]
  },
  {
   "cell_type": "code",
   "execution_count": null,
   "id": "ea1b07e4-84fd-4552-a5c4-b4c10ab061ab",
   "metadata": {},
   "outputs": [],
   "source": [
    "# This is the result of the entire submission.  You submitted one Pub,\n",
    "# so this contains one inner result (and some metadata of its own).\n",
    "job_result = job.result()\n",
    " \n",
    "# This is the result from our single pub, which had six observables,\n",
    "# so contains information on all six.\n",
    "pub_result = job.result()[0]\n"
   ]
  },
  {
   "cell_type": "code",
   "execution_count": null,
   "id": "7ff430cd-068d-4fdb-9883-cba87da4428b",
   "metadata": {},
   "outputs": [],
   "source": [
    "# Plot the result \n",
    "values = pub_result.data.evs\n",
    " \n",
    "errors = pub_result.data.stds\n",
    " \n",
    "# plotting graph\n",
    "plt.plot(observables_labels, values, \"-o\")\n",
    "plt.xlabel(\"Observables\")\n",
    "plt.ylabel(\"Values\")\n",
    "plt.show()"
   ]
  },
  {
   "cell_type": "markdown",
   "id": "f5cc9f0f-e80e-47af-8f33-11cd92c24d1b",
   "metadata": {},
   "source": [
    "## Scale to a larger system\n",
    "Create a function that returns a QuantumCircuit that prepares an nn-qubit GHZ state (essentially an extended Bell state). The circuit consists of one hadamard gate on q0 followed by n-1 CNOT gates connecting the ith and i+1th qubit. The state can also be illustrated as $1/\\sqrt{2} ( |0000\\dots 0> + |1111\\dots 1>)$.\n"
   ]
  },
  {
   "cell_type": "code",
   "execution_count": null,
   "id": "816a8511-3c55-4d45-996e-9d02639258d3",
   "metadata": {},
   "outputs": [],
   "source": [
    "def get_qc_for_n_qubit_GHZ_state(n: int) -> QuantumCircuit:\n",
    "    \"\"\"This function will create a qiskit.QuantumCircuit (qc) for an n-qubit GHZ state.\n",
    " \n",
    "    Args:\n",
    "        n (int): Number of qubits in the n-qubit GHZ state\n",
    " \n",
    "    Returns:\n",
    "        QuantumCircuit: Quantum circuit that generate the n-qubit GHZ state, assuming all qubits start in the 0 state\n",
    "    \"\"\"\n",
    "    if isinstance(n, int) and n >= 2:\n",
    "        qc = QuantumCircuit(n)\n",
    "        qc.h(0)\n",
    "        for i in range(n - 1):\n",
    "            qc.cx(i, i + 1)\n",
    "    else:\n",
    "        raise Exception(\"n is not a valid input\")\n",
    "    return qc\n",
    "\n",
    "n = 100\n",
    "qc = get_qc_for_n_qubit_GHZ_state(n)\n",
    "#Z operators between qubits to examine the behavior as they get farther apart. \n",
    "#Increasingly inaccurate (corrupted) expectation values between distant qubits would reveal the level of noise present.\n",
    "# ZZII...II, ZIZI...II, ... , ZIII...IZ\n",
    "operator_strings = [\n",
    "    \"Z\" + \"I\" * i + \"Z\" + \"I\" * (n - 2 - i) for i in range(n - 1)\n",
    "]\n",
    "print(operator_strings)\n",
    "print(len(operator_strings))\n",
    " \n",
    "operators = [SparsePauliOp(operator) for operator in operator_strings]"
   ]
  },
  {
   "cell_type": "markdown",
   "id": "f24ba890-04e2-427c-a7d6-b671cfacfb3b",
   "metadata": {},
   "source": [
    "### Step 2: Optimize the problem for the given hardware"
   ]
  },
  {
   "cell_type": "code",
   "execution_count": null,
   "id": "7dbe5bb5-00b9-42c3-bee4-720f61092c56",
   "metadata": {},
   "outputs": [],
   "source": [
    "service = QiskitRuntimeService()\n",
    " \n",
    "backend = service.least_busy(\n",
    "    simulator=False, operational=True, min_num_qubits=100\n",
    ")\n",
    "pm = generate_preset_pass_manager(optimization_level=1, backend=backend)\n",
    " \n",
    "isa_circuit = pm.run(qc)\n",
    "isa_operators_list = [op.apply_layout(isa_circuit.layout) for op in operators]"
   ]
  },
  {
   "cell_type": "markdown",
   "id": "411cda5b-145f-49fc-9b17-cbd6e2e844c9",
   "metadata": {},
   "source": [
    "### Execute on hardware"
   ]
  },
  {
   "cell_type": "code",
   "execution_count": null,
   "id": "f2c91619-77f4-4dbd-b939-06683a9749e0",
   "metadata": {},
   "outputs": [],
   "source": [
    "options = EstimatorOptions()\n",
    "options.resilience_level = 1\n",
    "options.dynamical_decoupling.enable = True\n",
    "options.dynamical_decoupling.sequence_type = \"XY4\"\n",
    " \n",
    "# Create an Estimator object\n",
    "estimator = Estimator(backend, options=options)\n",
    "\n",
    "# Submit the circuit to Estimator\n",
    "job = estimator.run([(isa_circuit, isa_operators_list)])\n",
    "job_id = job.job_id()\n",
    "print(job_id)"
   ]
  },
  {
   "cell_type": "markdown",
   "id": "5e05a9a6-2f2a-414e-8e67-810035fcb642",
   "metadata": {},
   "source": [
    "### Post-processing\n"
   ]
  },
  {
   "cell_type": "code",
   "execution_count": null,
   "id": "3ac93f48-22d4-49bc-bef0-ef1ec380ce7d",
   "metadata": {},
   "outputs": [],
   "source": [
    "# data\n",
    "data = list(range(1, len(operators) + 1))  # Distance between the Z operators\n",
    "result = job.result()[0]\n",
    "values = result.data.evs  # Expectation value at each Z operator.\n",
    "values = [\n",
    "    v / values[0] for v in values\n",
    "]  # Normalize the expectation values to evaluate how they decay with distance.\n",
    " \n",
    "# plotting graph\n",
    "plt.plot(data, values, marker=\"o\", label=\"100-qubit GHZ state\")\n",
    "plt.xlabel(\"Distance between qubits $i$\")\n",
    "plt.ylabel(r\"$\\langle Z_i Z_0 \\rangle / \\langle Z_1 Z_0 \\rangle $\")\n",
    "plt.legend()\n",
    "plt.show()"
   ]
  },
  {
   "cell_type": "markdown",
   "id": "28d05459-c4a0-40ac-abc1-aa88d1ea3ed2",
   "metadata": {},
   "source": [
    "### More explicit explanation \n",
    "\n",
    "In the plot above, the perfect entanglement should lead to a constant 1 everywhere. You can study that by the hand-crafted simplified example below. In the simulator, the expectation value for each of the Z gate combinations is exactly 1. "
   ]
  },
  {
   "cell_type": "code",
   "execution_count": null,
   "id": "94aa9bd6-aab6-4bbb-9a6a-22ed63ab5cca",
   "metadata": {},
   "outputs": [],
   "source": [
    "# A tiny GHZ state manually coded\n",
    "qc = QuantumCircuit(4)\n",
    "qc.h(0)\n",
    "qc.cx(0,1)\n",
    "qc.cx(1,2)\n",
    "qc.cx(2,3)\n",
    "display(qc.draw('mpl'))\n",
    "\n",
    "\n",
    "#  and the respective measurement operators\n",
    "observables_labels = [\"ZZII\", \"ZIZI\", \"ZIIZ\"]\n",
    "observable_operators = [Operator.from_label(label) for label in observables_labels]\n",
    "\n",
    "backend = aer.AerSimulator(method='automatic')\n",
    "#transpiling is especially important for newer versions of aer (rearranging the circuit to the given platform, here it's only simulation)\n",
    "qc_transpiled = transpile(qc, backend)\n",
    "# add a measurement because we need the state vector later on\n",
    "qc_transpiled.save_statevector()\n",
    "\n",
    "#Run the circuit\n",
    "job = backend.run(qc_transpiled)\n",
    "result = job.result()\n",
    "statevector = result.get_statevector()\n",
    "\n",
    "# calculate the expectation values for ZZII, ZIZI and ZIIZ and convert the complex numpy number to real\n",
    "exp_vals = [statevector.expectation_value(op).real for op in observable_operators]\n",
    "\n",
    "plt.plot(observables_labels, exp_vals, marker=\"o\", label=\"4-qubit GHZ state\")\n",
    "plt.xlabel(\"Distance between qubits $i$\")\n",
    "plt.ylabel(\"Expected value\")\n",
    "plt.legend()\n",
    "plt.show()"
   ]
  }
 ],
 "metadata": {
  "kernelspec": {
   "display_name": "Python 3 (ipykernel)",
   "language": "python",
   "name": "python3"
  },
  "language_info": {
   "codemirror_mode": {
    "name": "ipython",
    "version": 3
   },
   "file_extension": ".py",
   "mimetype": "text/x-python",
   "name": "python",
   "nbconvert_exporter": "python",
   "pygments_lexer": "ipython3",
   "version": "3.12.3"
  }
 },
 "nbformat": 4,
 "nbformat_minor": 5
}
